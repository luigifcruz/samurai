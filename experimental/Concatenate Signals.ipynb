{
 "cells": [
  {
   "cell_type": "code",
   "execution_count": 1,
   "metadata": {},
   "outputs": [],
   "source": [
    "import numpy as np\n",
    "import scipy.signal as ss\n",
    "import scipy.fft as sf\n",
    "\n",
    "%matplotlib inline\n",
    "import matplotlib.pyplot as plt"
   ]
  },
  {
   "cell_type": "code",
   "execution_count": 2,
   "metadata": {},
   "outputs": [],
   "source": [
    "def exp(f, N, fs):\n",
    "    T = 1.0 / fs\n",
    "    x = np.linspace(0.0, N*T, N, endpoint=False)\n",
    "    return np.exp(f * 1.j * 2.0 * np.pi * x)"
   ]
  },
  {
   "cell_type": "code",
   "execution_count": 9,
   "metadata": {},
   "outputs": [],
   "source": [
    "def fft(y, fs):\n",
    "    N = len(y)\n",
    "    T = 1.0 / fs\n",
    "    wf = ss.blackman(N)\n",
    "    yf = sf.fft(y * wf)\n",
    "    yf = 2.0 / N * np.abs(yf)\n",
    "    xf = sf.fftfreq(N, T)\n",
    "    return yf, xf"
   ]
  },
  {
   "cell_type": "code",
   "execution_count": 150,
   "metadata": {},
   "outputs": [],
   "source": [
    "fs = 10000\n",
    "N = 10000\n",
    "\n",
    "Fs = 10000\n",
    "\n",
    "chs = np.array([exp(-4990, N, fs), exp(0, N, fs), exp(4990, N, fs)])\n",
    "\n",
    "N *= 3\n",
    "fs *= 3\n",
    "\n",
    "ya = ss.resample(chs[0], N) * exp(-2*(Fs/2), N, fs)\n",
    "yb = ss.resample(chs[1], N) * exp(+0*(Fs/2), N, fs)\n",
    "yc = ss.resample(chs[2], N) * exp(+2*(Fs/2), N, fs)"
   ]
  },
  {
   "cell_type": "code",
   "execution_count": 151,
   "metadata": {},
   "outputs": [
    {
     "name": "stdout",
     "output_type": "stream",
     "text": [
      "0.8399720000000002\n"
     ]
    },
    {
     "data": {
      "image/png": "[encoded data removed]",
      "text/plain": [
       "<Figure size 432x288 with 1 Axes>"
      ]
     },
     "metadata": {
      "needs_background": "light"
     },
     "output_type": "display_data"
    }
   ],
   "source": [
    "yf, xf = fft(ya, fs)\n",
    "print(np.max(yf))\n",
    "plt.plot(xf, yf)\n",
    "plt.show()"
   ]
  },
  {
   "cell_type": "code",
   "execution_count": 152,
   "metadata": {},
   "outputs": [
    {
     "name": "stdout",
     "output_type": "stream",
     "text": [
      "0.8399720000000002\n"
     ]
    },
    {
     "data": {
      "image/png": "[encoded data removed]",
      "text/plain": [
       "<Figure size 432x288 with 1 Axes>"
      ]
     },
     "metadata": {
      "needs_background": "light"
     },
     "output_type": "display_data"
    }
   ],
   "source": [
    "yf, xf = fft(yb, fs)\n",
    "print(np.max(yf))\n",
    "plt.plot(xf, yf)\n",
    "plt.show()"
   ]
  },
  {
   "cell_type": "code",
   "execution_count": 153,
   "metadata": {},
   "outputs": [
    {
     "name": "stdout",
     "output_type": "stream",
     "text": [
      "0.8399720000000002\n"
     ]
    },
    {
     "data": {
      "image/png": "[encoded data removed]",
      "text/plain": [
       "<Figure size 432x288 with 1 Axes>"
      ]
     },
     "metadata": {
      "needs_background": "light"
     },
     "output_type": "display_data"
    }
   ],
   "source": [
    "yf, xf = fft(yc, fs)\n",
    "print(np.max(yf))\n",
    "plt.plot(xf, yf)\n",
    "plt.show()"
   ]
  },
  {
   "cell_type": "code",
   "execution_count": 154,
   "metadata": {},
   "outputs": [
    {
     "data": {
      "image/png": "[encoded data removed]",
      "text/plain": [
       "<Figure size 432x288 with 1 Axes>"
      ]
     },
     "metadata": {
      "needs_background": "light"
     },
     "output_type": "display_data"
    }
   ],
   "source": [
    "yf, xf = fft((ya + yb + yc), fs)\n",
    "plt.plot(xf, yf)\n",
    "plt.show()"
   ]
  },
  {
   "cell_type": "code",
   "execution_count": null,
   "metadata": {},
   "outputs": [],
   "source": []
  },
  {
   "cell_type": "code",
   "execution_count": null,
   "metadata": {},
   "outputs": [],
   "source": []
  }
 ],
 "metadata": {
  "kernelspec": {
   "display_name": "Python 3",
   "language": "python",
   "name": "python3"
  },
  "language_info": {
   "codemirror_mode": {
    "name": "ipython",
    "version": 3
   },
   "file_extension": ".py",
   "mimetype": "text/x-python",
   "name": "python",
   "nbconvert_exporter": "python",
   "pygments_lexer": "ipython3",
   "version": "3.9.1"
  }
 },
 "nbformat": 4,
 "nbformat_minor": 4
}
